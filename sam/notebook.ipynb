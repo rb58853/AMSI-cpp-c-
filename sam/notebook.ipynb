{
  "cells": [
    {
      "cell_type": "markdown",
      "metadata": {
        "id": "view-in-github",
        "colab_type": "text"
      },
      "source": [
        "<a href=\"https://colab.research.google.com/github/rb58853/AMSI-cpp-c-/blob/main/sam/notebook.ipynb\" target=\"_parent\"><img src=\"https://colab.research.google.com/assets/colab-badge.svg\" alt=\"Open In Colab\"/></a>"
      ]
    },
    {
      "cell_type": "markdown",
      "metadata": {
        "id": "oFZGjgYGLhuv"
      },
      "source": [
        "### install dependences"
      ]
    },
    {
      "cell_type": "code",
      "source": [
        "from google.colab import drive\n",
        "drive.mount('/content/drive')"
      ],
      "metadata": {
        "id": "k_NtshMKNNOh"
      },
      "execution_count": null,
      "outputs": []
    },
    {
      "cell_type": "code",
      "execution_count": null,
      "metadata": {
        "vscode": {
          "languageId": "bat"
        },
        "id": "FdC8pwGOLhuz"
      },
      "outputs": [],
      "source": [
        "pip install transformers"
      ]
    },
    {
      "cell_type": "markdown",
      "metadata": {
        "id": "xoXfWCv9Lhu1"
      },
      "source": [
        "### tool: create image from a input mask"
      ]
    },
    {
      "cell_type": "code",
      "execution_count": 48,
      "metadata": {
        "id": "JeAjr6gKLhu1"
      },
      "outputs": [],
      "source": [
        "from PIL import Image\n",
        "\n",
        "def mask_image(mask, raw_image):\n",
        "    weigth, heigth = raw_image.size\n",
        "    new_image = Image.new('RGBA', (weigth, heigth), (0, 0, 0, 0))\n",
        "\n",
        "    original_pixles = raw_image.load()\n",
        "    pixels = new_image.load()\n",
        "\n",
        "    # print(\"\\n\\n------------------------NEW MASK------------------------------\\n\" + str(mask))\n",
        "\n",
        "    for i in range (10):\n",
        "        for j in range (11):\n",
        "            if mask[i,j]:\n",
        "                pixels[j, i] = original_pixles[j,i]\n",
        "            else:\n",
        "                pass\n",
        "    return new_image"
      ]
    },
    {
      "cell_type": "markdown",
      "metadata": {
        "id": "2zMQNHtfLhu2"
      },
      "source": [
        "### Working with SAM"
      ]
    },
    {
      "cell_type": "markdown",
      "metadata": {
        "id": "JyMFqg0jLhu2"
      },
      "source": [
        "##### import dependences and model from hugginface"
      ]
    },
    {
      "cell_type": "code",
      "execution_count": 5,
      "metadata": {
        "id": "jfHZ7Pi8Lhu3"
      },
      "outputs": [],
      "source": [
        "import torch\n",
        "from PIL import Image\n",
        "import requests\n",
        "from transformers import SamModel, SamProcessor\n",
        "\n",
        "device = \"cuda\" if torch.cuda.is_available() else \"cpu\"\n",
        "model = SamModel.from_pretrained(\"facebook/sam-vit-huge\").to(device)\n",
        "processor = SamProcessor.from_pretrained(\"facebook/sam-vit-huge\")"
      ]
    },
    {
      "cell_type": "markdown",
      "metadata": {
        "id": "kcTrrNTHLhu6"
      },
      "source": [
        "##### select and import image by process"
      ]
    },
    {
      "cell_type": "code",
      "execution_count": 30,
      "metadata": {
        "id": "XJ8UopFoLhu7"
      },
      "outputs": [],
      "source": [
        "img_url = \"/content/drive/MyDrive/Tesis/test_images/6.png\"\n",
        "\n",
        "raw_image = Image.open(img_url).convert(\"RGB\")\n",
        "input_points = [[[450, 600]]]  # 2D location of a window in the image"
      ]
    },
    {
      "cell_type": "markdown",
      "metadata": {
        "id": "oPPfICRSLhu9"
      },
      "source": [
        "##### masks from image"
      ]
    },
    {
      "cell_type": "code",
      "execution_count": 31,
      "metadata": {
        "id": "Z1AM6vNGLhu9"
      },
      "outputs": [],
      "source": [
        "inputs = processor(raw_image, input_points=input_points, return_tensors=\"pt\").to(device)\n",
        "outputs = model(**inputs)\n",
        "\n",
        "#Estas son mascaras booleanas True implica que el pixel en cuestion interesa, y False implica que no es de interes, es Fondo de esa capa\n",
        "masks = processor.image_processor.post_process_masks(\n",
        "    outputs.pred_masks.cpu(), inputs[\"original_sizes\"].cpu(), inputs[\"reshaped_input_sizes\"].cpu()\n",
        ")"
      ]
    },
    {
      "cell_type": "code",
      "source": [
        "for m1 in masks:\n",
        "  for m2 in m1:\n",
        "    for i, m3 in zip(range(len(m2)),m2):\n",
        "      new_image = mask_image(m3, raw_image)\n",
        "      new_image.save(f'/content/drive/MyDrive/Tesis/sam_images/{i}.png', 'PNG')\n",
        "\n"
      ],
      "metadata": {
        "colab": {
          "base_uri": "https://localhost:8080/"
        },
        "id": "JSPJj7kTyW3R",
        "outputId": "6f8bcc0c-6c6c-4624-cb6c-ba1269c59724"
      },
      "execution_count": 46,
      "outputs": [
        {
          "output_type": "stream",
          "name": "stdout",
          "text": [
            "\n",
            "\n",
            "------------------------NEW MASK------------------------------\n",
            "tensor([[False, False, False, False, False, False, False,  True,  True,  True,\n",
            "          True],\n",
            "        [False, False, False, False, False, False, False,  True,  True,  True,\n",
            "          True],\n",
            "        [False, False, False, False, False, False, False,  True,  True,  True,\n",
            "          True],\n",
            "        [False, False, False, False, False, False, False,  True,  True,  True,\n",
            "          True],\n",
            "        [False, False, False, False, False, False, False,  True,  True,  True,\n",
            "          True],\n",
            "        [False, False, False, False, False, False, False,  True,  True,  True,\n",
            "          True],\n",
            "        [False, False, False, False, False, False, False,  True,  True,  True,\n",
            "          True],\n",
            "        [False, False, False, False, False, False, False,  True,  True,  True,\n",
            "          True],\n",
            "        [False, False, False, False, False, False, False,  True,  True,  True,\n",
            "          True],\n",
            "        [False, False, False, False, False, False, False,  True,  True,  True,\n",
            "          True]])\n",
            "\n",
            "\n",
            "------------------------NEW MASK------------------------------\n",
            "tensor([[ True,  True,  True,  True, False, False, False,  True,  True,  True,\n",
            "          True],\n",
            "        [ True,  True,  True,  True, False, False, False,  True,  True,  True,\n",
            "          True],\n",
            "        [ True,  True,  True,  True, False, False, False,  True,  True,  True,\n",
            "          True],\n",
            "        [ True,  True,  True,  True, False, False, False,  True,  True,  True,\n",
            "          True],\n",
            "        [ True,  True,  True,  True, False, False, False,  True,  True,  True,\n",
            "          True],\n",
            "        [ True,  True,  True,  True, False, False, False,  True,  True,  True,\n",
            "          True],\n",
            "        [ True,  True,  True,  True, False, False, False,  True,  True,  True,\n",
            "          True],\n",
            "        [ True,  True,  True,  True, False, False, False,  True,  True,  True,\n",
            "          True],\n",
            "        [ True,  True,  True,  True, False, False, False,  True,  True,  True,\n",
            "          True],\n",
            "        [ True,  True,  True,  True, False, False, False,  True,  True,  True,\n",
            "          True]])\n",
            "\n",
            "\n",
            "------------------------NEW MASK------------------------------\n",
            "tensor([[True, True, True, True, True, True, True, True, True, True, True],\n",
            "        [True, True, True, True, True, True, True, True, True, True, True],\n",
            "        [True, True, True, True, True, True, True, True, True, True, True],\n",
            "        [True, True, True, True, True, True, True, True, True, True, True],\n",
            "        [True, True, True, True, True, True, True, True, True, True, True],\n",
            "        [True, True, True, True, True, True, True, True, True, True, True],\n",
            "        [True, True, True, True, True, True, True, True, True, True, True],\n",
            "        [True, True, True, True, True, True, True, True, True, True, True],\n",
            "        [True, True, True, True, True, True, True, True, True, True, True],\n",
            "        [True, True, True, True, True, True, True, True, True, True, True]])\n"
          ]
        }
      ]
    }
  ],
  "metadata": {
    "language_info": {
      "name": "python"
    },
    "orig_nbformat": 4,
    "colab": {
      "provenance": [],
      "machine_shape": "hm",
      "include_colab_link": true
    },
    "kernelspec": {
      "name": "python3",
      "display_name": "Python 3"
    }
  },
  "nbformat": 4,
  "nbformat_minor": 0
}